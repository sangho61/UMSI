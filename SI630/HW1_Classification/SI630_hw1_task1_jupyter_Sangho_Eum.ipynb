{
 "cells": [
  {
   "cell_type": "markdown",
   "metadata": {
    "collapsed": true
   },
   "source": [
    "# SI 630: Homework 1 - Classification  (Sangho Eum)\n",
    "\n",
    "## TASK 1: Naive Bayes Classifier"
   ]
  },
  {
   "cell_type": "markdown",
   "metadata": {},
   "source": [
    "# Conclusion\n",
    "\n",
    "### Part 1 Conclusion\n",
    "\n",
    "- What happens as you change the value of smoothing alpha? Include a plot of your classifier’s performance on the development data where (i) your model’s performance is on the y-axis and (ii) the choice in smoothing alpha is on the x-axis. Note that most people use α = 1; does this value give good performance for you?\n",
    "\n",
    "-> I have the best performance with 0.3. After 0.3, the performance is getting decreased a liitle bit.\n",
    "-> Graphs are below.\n",
    "\n",
    "- Submit your best model’s predictions on the test data to Kaggle.\n",
    "\n",
    "-> I got 0.849 with alpha = 0.3.\n",
    "\n",
    "### Part 2 Conclustion\n",
    "\n",
    "- Write a better tokenizing function called better tokenize that fixes these issues. In your report, describe which kinds of errors you fixed, what kind of features you included, and why you made the choices you did.\n",
    "\n",
    "-> I remove emoji and stop_words because I think they are neutral words which mean they do not affect positivity or negativity. \n",
    "\n",
    "\n",
    "- Recompute your performance on the development data using the better tokenize method. Describe in your report what impact this had on the performance.\n",
    "\n",
    "-> The performance increased by 2%. I also got better result for kaggle submission (0.871)\n",
    "\n",
    "\n",
    "\n"
   ]
  },
  {
   "cell_type": "markdown",
   "metadata": {},
   "source": [
    "### Part 1"
   ]
  },
  {
   "cell_type": "code",
   "execution_count": 1,
   "metadata": {
    "collapsed": true
   },
   "outputs": [],
   "source": [
    "# import library\n",
    "import csv\n",
    "import math\n",
    "import re\n",
    "from sklearn.metrics import f1_score\n",
    "import matplotlib.pyplot as plt"
   ]
  },
  {
   "cell_type": "code",
   "execution_count": 2,
   "metadata": {
    "collapsed": true
   },
   "outputs": [],
   "source": [
    "# Load data sets\n",
    "dat = []\n",
    "dev = []\n",
    "\n",
    "with open('train.tsv') as tsvfile:\n",
    "  reader = csv.DictReader(tsvfile, dialect='excel-tab', quoting=csv.QUOTE_NONE)\n",
    "  for i in reader:\n",
    "      dat.append(i)\n",
    "\n",
    "with open('dev.tsv') as tsvfile:\n",
    "  reader2 = csv.DictReader(tsvfile, dialect='excel-tab', quoting=csv.QUOTE_NONE)\n",
    "  for i in reader2:\n",
    "      dev.append(i)\n"
   ]
  },
  {
   "cell_type": "code",
   "execution_count": 3,
   "metadata": {
    "collapsed": true
   },
   "outputs": [],
   "source": [
    "# Write tokenize and better_tokenize functions\n",
    "\n",
    "stop_words = []\n",
    "\n",
    "with open('stopwords.txt', 'r') as file:\n",
    "    for line in file.readlines():\n",
    "        stop_words.append(line.strip())\n",
    "\n",
    "\n",
    "def tokenize(review):\n",
    "    return review.split()\n",
    "\n",
    "def better_tokenize(text):\n",
    "    text = text.lower()\n",
    "    text = re.sub(r\"(@[a-zA-Z0-9_]+)|(\\w+:\\/\\/\\S+)\", \" \", text)\n",
    "    text = re.sub('[^A-Za-z0-9 ]+', '', text)\n",
    "    features = text.split()\n",
    "    filtered_features = []\n",
    "    for feature in features:\n",
    "        if feature not in stop_words:\n",
    "            filtered_features.append(feature)\n",
    "    return filtered_features"
   ]
  },
  {
   "cell_type": "code",
   "execution_count": 4,
   "metadata": {
    "collapsed": true
   },
   "outputs": [],
   "source": [
    "# Write train fuction using tokenize function\n",
    "\n",
    "def train(data, alpha = 0):\n",
    "    dct_xi_0 = {}\n",
    "    dct_xi_1 = {}\n",
    "    dct_pxi_0 = {}\n",
    "    dct_pxi_1 = {}\n",
    "    pos_tot = 0\n",
    "    neg_tot = 0\n",
    "\n",
    "    for i in data:\n",
    "        if i['class'] == '0':\n",
    "            pos_tot += len(tokenize(i['text']))\n",
    "            for k in tokenize(i['text']):\n",
    "                dct_xi_0[k] = dct_xi_0.get(k,0) + 1\n",
    "        else:\n",
    "            for k in tokenize(i['text']):\n",
    "                dct_xi_1[k] = dct_xi_1.get(k,0) + 1\n",
    "            neg_tot += len(tokenize(i['text']))\n",
    "\n",
    "    tot = pos_tot + neg_tot\n",
    "    py0 = pos_tot / tot\n",
    "    py1 = neg_tot / tot\n",
    "    words = set(list(dct_xi_0.keys()) + list(dct_xi_1.keys()))\n",
    "    v = len(words)\n",
    "\n",
    "    for i in words:\n",
    "        dct_pxi_0[i] = (dct_xi_0.get(i, 0) + alpha) / (pos_tot+v * alpha)\n",
    "        dct_pxi_1[i] = (dct_xi_1.get(i, 0) + alpha) / (neg_tot+v * alpha)\n",
    "\n",
    "    dct_tot = {'py0': py0, 'py1':py1, 'pxi_0':dct_pxi_0,'pxi_1':dct_pxi_1, 'words_set':words}\n",
    "    return dct_tot"
   ]
  },
  {
   "cell_type": "code",
   "execution_count": 5,
   "metadata": {
    "collapsed": true
   },
   "outputs": [],
   "source": [
    "# Write classify function using tokenize function\n",
    "\n",
    "def classify(words, dct_tot, alpha = 0):\n",
    "    w = tokenize(words)\n",
    "    words_set = dct_tot['words_set']\n",
    "    py0 = dct_tot['py0']\n",
    "    py1 = dct_tot['py1']\n",
    "    pxi_0 = dct_tot['pxi_0']\n",
    "    pxi_1 = dct_tot['pxi_1']\n",
    "    pos = 1\n",
    "    neg = 1\n",
    "    for i in w:\n",
    "        if i not in words_set :\n",
    "            continue\n",
    "        pos = pos * pxi_0[i]\n",
    "        neg = neg * pxi_1[i]\n",
    "    if alpha == 0:\n",
    "        py0_x = pos * py0\n",
    "        py1_x = neg * py1\n",
    "        if py0_x >= py1_x:\n",
    "            return 0\n",
    "        else:\n",
    "            return 1\n",
    "    else:\n",
    "        py0_x = math.log10(pos * py0)\n",
    "        py1_x = math.log10(neg * py1)\n",
    "        if py0_x >= py1_x:\n",
    "            return 0\n",
    "        else:\n",
    "            return 1"
   ]
  },
  {
   "cell_type": "code",
   "execution_count": 6,
   "metadata": {
    "collapsed": true
   },
   "outputs": [],
   "source": [
    "# Write f1_check function that returns performance with tokenize function\n",
    "\n",
    "def f1_check(deve, data, alpha):\n",
    "    y_pred = []\n",
    "    y_true = []\n",
    "    dct = train(data, alpha)\n",
    "    for i in deve:\n",
    "        y_pred.append(classify(i['text'], dct, alpha))\n",
    "        y_true.append(int(i['class']))\n",
    "    F1 = f1_score(y_true, y_pred)\n",
    "    return F1"
   ]
  },
  {
   "cell_type": "markdown",
   "metadata": {},
   "source": [
    "#### Result with tokenize function"
   ]
  },
  {
   "cell_type": "code",
   "execution_count": 7,
   "metadata": {},
   "outputs": [
    {
     "data": {
      "image/png": "[encoded data removed]",
      "text/plain": [
       "<matplotlib.figure.Figure at 0x10bf2e630>"
      ]
     },
     "metadata": {},
     "output_type": "display_data"
    }
   ],
   "source": [
    "# Print plot \n",
    "alp_list = [0, 0.1, 0.3, 0.7, 1, 1.5, 2, 2.5, 3]\n",
    "per_list = []\n",
    "\n",
    "for i in alp_list:\n",
    "    per_list.append(f1_check(dev, dat, i))\n",
    "plt.plot(alp_list, per_list)\n",
    "plt.show()\n"
   ]
  },
  {
   "cell_type": "code",
   "execution_count": 8,
   "metadata": {},
   "outputs": [
    {
     "name": "stdout",
     "output_type": "stream",
     "text": [
      "[0, 0.1, 0.3, 0.7, 1, 1.5, 2, 2.5, 3]\n",
      "[0.7878060489678349, 0.87162750217580487, 0.87175043327556334, 0.86967797709098771, 0.8693022251026139, 0.8686084142394821, 0.86699719767191197, 0.86681034482758623, 0.86626402070750652]\n"
     ]
    }
   ],
   "source": [
    "# Print alphas and performances\n",
    "print(alp_list)\n",
    "print(per_list)"
   ]
  },
  {
   "cell_type": "markdown",
   "metadata": {},
   "source": [
    "### Part 2"
   ]
  },
  {
   "cell_type": "code",
   "execution_count": 9,
   "metadata": {
    "collapsed": true
   },
   "outputs": [],
   "source": [
    "# Write train2 function with better_tokenize function\n",
    "\n",
    "def train2(data, alpha = 0):\n",
    "    dct_xi_0 = {}\n",
    "    dct_xi_1 = {}\n",
    "    dct_pxi_0 = {}\n",
    "    dct_pxi_1 = {}\n",
    "    pos_tot = 0\n",
    "    neg_tot = 0\n",
    "\n",
    "    for i in data:\n",
    "        if i['class'] == '0':\n",
    "            pos_tot += len(better_tokenize(i['text']))\n",
    "            for k in better_tokenize(i['text']):\n",
    "                dct_xi_0[k] = dct_xi_0.get(k,0) + 1\n",
    "        else:\n",
    "            for k in better_tokenize(i['text']):\n",
    "                dct_xi_1[k] = dct_xi_1.get(k,0) + 1\n",
    "            neg_tot += len(better_tokenize(i['text']))\n",
    "\n",
    "    tot = pos_tot + neg_tot\n",
    "    py0 = pos_tot / tot\n",
    "    py1 = neg_tot / tot\n",
    "    words = set(list(dct_xi_0.keys()) + list(dct_xi_1.keys()))\n",
    "    v = len(words)\n",
    "\n",
    "    for i in words:\n",
    "        dct_pxi_0[i] = (dct_xi_0.get(i, 0) + alpha) / (pos_tot+v * alpha)\n",
    "        dct_pxi_1[i] = (dct_xi_1.get(i, 0) + alpha) / (neg_tot+v * alpha)\n",
    "\n",
    "    dct_tot = {'py0': py0, 'py1':py1, 'pxi_0':dct_pxi_0,'pxi_1':dct_pxi_1, 'words_set':words}\n",
    "    return dct_tot"
   ]
  },
  {
   "cell_type": "code",
   "execution_count": 10,
   "metadata": {
    "collapsed": true
   },
   "outputs": [],
   "source": [
    "# Write classify2 function using better_tokenize function\n",
    "\n",
    "def classify2(words, dct_tot, alpha = 0):\n",
    "    w = better_tokenize(words)\n",
    "    words_set = dct_tot['words_set']\n",
    "    py0 = dct_tot['py0']\n",
    "    py1 = dct_tot['py1']\n",
    "    pxi_0 = dct_tot['pxi_0']\n",
    "    pxi_1 = dct_tot['pxi_1']\n",
    "    pos = 1\n",
    "    neg = 1\n",
    "    for i in w:\n",
    "        if i not in words_set :\n",
    "            continue\n",
    "        pos = pos * pxi_0[i]\n",
    "        neg = neg * pxi_1[i]\n",
    "    if alpha == 0:\n",
    "        py0_x = pos * py0\n",
    "        py1_x = neg * py1\n",
    "        if py0_x >= py1_x:\n",
    "            return 0\n",
    "        else:\n",
    "            return 1\n",
    "    else:\n",
    "        py0_x = math.log10(pos * py0)\n",
    "        py1_x = math.log10(neg * py1)\n",
    "        if py0_x >= py1_x:\n",
    "            return 0\n",
    "        else:\n",
    "            return 1"
   ]
  },
  {
   "cell_type": "code",
   "execution_count": 11,
   "metadata": {
    "collapsed": true
   },
   "outputs": [],
   "source": [
    "# Write f1_check function that returns performance with better_tokenize function\n",
    "\n",
    "def f1_check2(deve, data, alpha):\n",
    "    y_pred = []\n",
    "    y_true = []\n",
    "    dct = train2(data, alpha)\n",
    "    for i in deve:\n",
    "        y_pred.append(classify2(i['text'], dct, alpha))\n",
    "        y_true.append(int(i['class']))\n",
    "    F1 = f1_score(y_true, y_pred)\n",
    "    return F1"
   ]
  },
  {
   "cell_type": "markdown",
   "metadata": {},
   "source": [
    "#### Result with better_tokenize function"
   ]
  },
  {
   "cell_type": "code",
   "execution_count": 12,
   "metadata": {},
   "outputs": [
    {
     "data": {
      "image/png": "[encoded data removed]",
      "text/plain": [
       "<matplotlib.figure.Figure at 0x1a148d1208>"
      ]
     },
     "metadata": {},
     "output_type": "display_data"
    }
   ],
   "source": [
    "# Print plot \n",
    "alp_list = [0, 0.1, 0.3, 0.7, 1, 1.5, 2, 2.5, 3]\n",
    "per_list2 = []\n",
    "\n",
    "for i in alp_list:\n",
    "    per_list2.append(f1_check2(dev, dat, i))\n",
    "plt.plot(alp_list, per_list2)\n",
    "plt.show()"
   ]
  },
  {
   "cell_type": "code",
   "execution_count": 13,
   "metadata": {},
   "outputs": [
    {
     "name": "stdout",
     "output_type": "stream",
     "text": [
      "[0, 0.1, 0.3, 0.7, 1, 1.5, 2, 2.5, 3]\n",
      "[0.81276396058188649, 0.88123620309050765, 0.88112502746649091, 0.88324205914567355, 0.88304862023653086, 0.8823914466506656, 0.88158467566390941, 0.88207136640557016, 0.88029545948294607]\n"
     ]
    }
   ],
   "source": [
    "# Print alphas and performances\n",
    "print(alp_list)\n",
    "print(per_list2)"
   ]
  },
  {
   "cell_type": "markdown",
   "metadata": {},
   "source": [
    "#### Create kaggle.csv for kaggle submission"
   ]
  },
  {
   "cell_type": "code",
   "execution_count": 14,
   "metadata": {
    "collapsed": true
   },
   "outputs": [],
   "source": [
    "testarr = []\n",
    "y_instanceids = []\n",
    "y_pred = []\n",
    "traindic = train2(dat, 1)\n",
    "\n",
    "with open('test.unlabeled.tsv') as tsvfile:\n",
    "    reader3 = csv.DictReader(tsvfile, dialect='excel-tab', quoting=csv.QUOTE_NONE)\n",
    "    for i in reader3:\n",
    "        testarr.append(i)\n",
    "\n",
    "csvfile = open(\"kaggle.csv\", 'w')\n",
    "\n",
    "testarr =[]\n",
    "\n",
    "for i in testarr:\n",
    "    y_instanceids.append(i['instance_id'])\n",
    "    y_pred.append(classify2(i['text'], traindic, 1))\n",
    "\n",
    "\n",
    "with csvfile:\n",
    "    titlerow = ['instance_id', 'class']\n",
    "    writer = csv.writer(csvfile)\n",
    "    writer.writerow(titlerow)\n",
    "\n",
    "    for i in range(len(y_instanceids)):\n",
    "        writer.writerow([y_instanceids[i], y_pred[i]])\n"
   ]
  }
 ],
 "metadata": {
  "kernelspec": {
   "display_name": "Python 3",
   "language": "python",
   "name": "python3"
  },
  "language_info": {
   "codemirror_mode": {
    "name": "ipython",
    "version": 3
   },
   "file_extension": ".py",
   "mimetype": "text/x-python",
   "name": "python",
   "nbconvert_exporter": "python",
   "pygments_lexer": "ipython3",
   "version": "3.6.3"
  }
 },
 "nbformat": 4,
 "nbformat_minor": 2
}
