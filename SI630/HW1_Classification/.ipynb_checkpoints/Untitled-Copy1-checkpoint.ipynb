{
 "cells": [
  {
   "cell_type": "markdown",
   "metadata": {},
   "source": [
    "# SI 630: Homework 1 - Classification  (Sangho Eum)\n",
    "\n",
    "## TASK 2: Logistic Regression"
   ]
  },
  {
   "cell_type": "markdown",
   "metadata": {},
   "source": [
    "## Conclusion\n",
    "\n",
    "- Given some choice of β to make predictions, we want to use the difference in our prediction Yˆ from the ground truth Y to update β. The gradient of the log likelihood tells us which direction (positive or negative) to make the update and how large the update should be. Write a function compute gradient to compute the gradient. Note that we can compute the whole gradient using \n",
    "∇ l l = X T ( Y − Yˆ )\n",
    "Note that Y is a binary vector with our ground truth (i.e., the training data labels) and Yˆ is\n",
    "the binary vector with the predictions. To get a sense of why this works, think about what\n",
    "gradient will equal if our prediction for item i, Yˆ is the same as the ground truth Y ; if we ii\n",
    "use this gradient to update our weight for βi, what effect will it have?\n",
    "\n",
    "-> Gradient is zero, so it does not make an impact. \n",
    "\n",
    "- Train your model on the training data learning rate=5e-5 (i.e., a very small number) and num steps = 300000. Make a plot of the log-likelihood every 10,000 steps. Did the model converge at some point (i.e., does the log likelihood remain stable)?\n",
    "\n",
    "-> \n",
    "\n",
    "- After training on the training data, use your logistic regression classifier to make predictions on the validation dataset and report your performance using the F1.\n",
    "\n",
    "->\n",
    "\n",
    "- Submit your best model’s predictions on the test data to Kaggle.\n",
    "\n",
    "-> \n"
   ]
  },
  {
   "cell_type": "code",
   "execution_count": 1,
   "metadata": {
    "collapsed": true
   },
   "outputs": [],
   "source": [
    "# import library\n",
    "import csv\n",
    "from sklearn.metrics import f1_score\n",
    "import matplotlib.pyplot as plt\n",
    "import re\n",
    "import numpy as np\n",
    "from scipy.sparse import csr_matrix, hstack\n",
    "import logging, sys\n",
    "import math\n"
   ]
  },
  {
   "cell_type": "code",
   "execution_count": 2,
   "metadata": {
    "collapsed": true
   },
   "outputs": [],
   "source": [
    "# load data\n",
    "dat = []\n",
    "dev = []\n",
    "stop_words = []\n",
    "with open('train.tsv') as tsvfile:\n",
    "  reader = csv.DictReader(tsvfile, dialect='excel-tab', quoting=csv.QUOTE_NONE)\n",
    "  for i in reader:\n",
    "      dat.append(i)\n",
    "\n",
    "with open('dev.tsv') as tsvfile:\n",
    "  reader2 = csv.DictReader(tsvfile, dialect='excel-tab', quoting=csv.QUOTE_NONE)\n",
    "  for i in reader2:\n",
    "      dev.append(i)\n",
    "\n",
    "with open('stopwords.txt', 'r') as file:\n",
    "    for line in file.readlines():\n",
    "        stop_words.append(line.strip())\n"
   ]
  },
  {
   "cell_type": "code",
   "execution_count": 3,
   "metadata": {
    "collapsed": true
   },
   "outputs": [],
   "source": [
    "# tokenize % better tokenize functions\n",
    "def tokenize(text):\n",
    "    return text.split()\n",
    "\n",
    "def better_tokenize(text):\n",
    "    text = text.lower()\n",
    "    text = re.sub(r\"(@[a-zA-Z0-9_]+)|(\\w+:\\/\\/\\S+)\", \" \", text)\n",
    "    text = re.sub('[^A-Za-z0-9 ]+', '', text)\n",
    "    features = text.split()\n",
    "    filtered_features = []\n",
    "    for feature in features:\n",
    "        if feature not in stop_words:\n",
    "            filtered_features.append(feature)\n",
    "    return filtered_features"
   ]
  },
  {
   "cell_type": "code",
   "execution_count": 4,
   "metadata": {
    "collapsed": true
   },
   "outputs": [],
   "source": [
    "# Create matrix function\n",
    "def create_matrix(lst):\n",
    "    indptr = [0]\n",
    "    indices = []\n",
    "    data = []\n",
    "    vocabulary = {}\n",
    "    y_true = []\n",
    "\n",
    "    for i in lst:\n",
    "        y_true.append(int(i['class']))\n",
    "\n",
    "        text = better_tokenize(i['text'])\n",
    "        for k in text:\n",
    "            index = vocabulary.setdefault(k, len(vocabulary))\n",
    "            indices.append(index)\n",
    "            data.append(1)\n",
    "        indptr.append(len(indices))\n",
    "    a = csr_matrix((data, indices, indptr))\n",
    "    return [a, np.array([y_true]).T, vocabulary]"
   ]
  },
  {
   "cell_type": "code",
   "execution_count": 5,
   "metadata": {
    "collapsed": true
   },
   "outputs": [],
   "source": [
    "# Sigmiod function\n",
    "def sigmoid(z):\n",
    "    return 1/(1+np.exp(-z))"
   ]
  },
  {
   "cell_type": "code",
   "execution_count": 6,
   "metadata": {
    "collapsed": true
   },
   "outputs": [],
   "source": [
    "# Log likely function\n",
    "def log_likelihood(x, yt, w):\n",
    "    scores = x.dot(w)\n",
    "    ll = np.sum(yt * scores - np.log(1 + np.exp(scores)))\n",
    "    return ll\n"
   ]
  },
  {
   "cell_type": "code",
   "execution_count": 7,
   "metadata": {
    "collapsed": true
   },
   "outputs": [],
   "source": [
    "# logistic regression function\n",
    "def logistic_regression(x, yt, num_steps, learning_rate, add_intercept = False):\n",
    "    steps = []\n",
    "    ll_lst = []\n",
    "\n",
    "    if add_intercept:\n",
    "        intercept = np.ones((x.shape[0], 1))\n",
    "        x = hstack((intercept, x))\n",
    "\n",
    "    w = np.zeros((x.shape[1], 1))\n",
    "\n",
    "    for step in range(num_steps):\n",
    "        scores = x.dot(w)\n",
    "        predictions = sigmoid(scores)\n",
    "        output_error_signal = yt - predictions\n",
    "        gradient = x.T.dot(output_error_signal)\n",
    "        w += learning_rate * gradient\n",
    "\n",
    "        if step % 10000 == 0:\n",
    "            steps.append(step)\n",
    "            ll = log_likelihood(x, yt, w)\n",
    "            ll_lst.append(ll)\n",
    "            print('step: ',step, '', 'll: ', ll)\n",
    "    return {'w': w, 'step': steps, 'll': ll_lst}"
   ]
  },
  {
   "cell_type": "code",
   "execution_count": 53,
   "metadata": {
    "collapsed": true
   },
   "outputs": [],
   "source": [
    "# f1 score function\n",
    "def f1_check(yte, ytr):\n",
    "    return f1_score(yte, ytr, average='micro')"
   ]
  },
  {
   "cell_type": "code",
   "execution_count": 10,
   "metadata": {
    "collapsed": true
   },
   "outputs": [],
   "source": [
    "# Create matrix with train.tsv data set \n",
    "train_set = create_matrix(dat)\n",
    "train_x = train_set[0]\n",
    "train_y = train_set[1]\n",
    "train_v = train_set[2]"
   ]
  },
  {
   "cell_type": "code",
   "execution_count": 15,
   "metadata": {},
   "outputs": [
    {
     "name": "stdout",
     "output_type": "stream",
     "text": [
      "step:  0  ll:  -23640.4861138\n",
      "step:  10000  ll:  -2492.9016657\n",
      "step:  20000  ll:  -1864.34605301\n",
      "step:  30000  ll:  -1537.99864447\n",
      "step:  40000  ll:  -1328.29354231\n",
      "step:  50000  ll:  -1179.08053081\n",
      "step:  60000  ll:  -1066.26790888\n",
      "step:  70000  ll:  -977.452273711\n",
      "step:  80000  ll:  -905.454732958\n",
      "step:  90000  ll:  -845.783101199\n",
      "step:  100000  ll:  -795.459860928\n",
      "step:  110000  ll:  -752.415712898\n",
      "step:  120000  ll:  -715.155447489\n",
      "step:  130000  ll:  -682.566292938\n",
      "step:  140000  ll:  -653.80248669\n",
      "step:  150000  ll:  -628.211395241\n",
      "step:  160000  ll:  -605.283155875\n",
      "step:  170000  ll:  -584.61438926\n",
      "step:  180000  ll:  -565.88120286\n",
      "step:  190000  ll:  -548.81926086\n",
      "step:  200000  ll:  -533.209623823\n",
      "step:  210000  ll:  -518.868980833\n",
      "step:  220000  ll:  -505.642791388\n",
      "step:  230000  ll:  -493.400170035\n",
      "step:  240000  ll:  -482.029828737\n",
      "step:  250000  ll:  -471.436743555\n",
      "step:  260000  ll:  -461.539389305\n",
      "step:  270000  ll:  -452.267458701\n",
      "step:  280000  ll:  -443.560007047\n",
      "step:  290000  ll:  -435.363964594\n"
     ]
    }
   ],
   "source": [
    "# Training with 5e-5 learning rate\n",
    "\n",
    "w1 = logistic_regression(train_x, train_y, num_steps = 300000, learning_rate = 5e-5, add_intercept = True)\n",
    "w1_step = w1['step']\n",
    "w1_ll = w1['ll']\n",
    "w1_w = w1['w']"
   ]
  },
  {
   "cell_type": "code",
   "execution_count": 16,
   "metadata": {},
   "outputs": [
    {
     "name": "stdout",
     "output_type": "stream",
     "text": [
      "step:  0  ll:  -25833.7984387\n",
      "step:  10000  ll:  -240.01703467\n",
      "step:  20000  ll:  -187.285802498\n",
      "step:  30000  ll:  -165.943090628\n",
      "step:  40000  ll:  -153.790974512\n",
      "step:  50000  ll:  -145.698162286\n",
      "step:  60000  ll:  -139.815140252\n",
      "step:  70000  ll:  -135.294998801\n",
      "step:  80000  ll:  -131.687388317\n",
      "step:  90000  ll:  -128.725227011\n",
      "step:  100000  ll:  -126.238294247\n",
      "step:  110000  ll:  -124.11262634\n",
      "step:  120000  ll:  -122.268855315\n",
      "step:  130000  ll:  -120.64982892\n",
      "step:  140000  ll:  -119.213210368\n",
      "step:  150000  ll:  -117.926893389\n",
      "step:  160000  ll:  -116.766064014\n",
      "step:  170000  ll:  -115.711246373\n",
      "step:  180000  ll:  -114.746948395\n",
      "step:  190000  ll:  -113.860690449\n",
      "step:  200000  ll:  -113.042296695\n",
      "step:  210000  ll:  -112.283375602\n",
      "step:  220000  ll:  -111.576937068\n",
      "step:  230000  ll:  -110.917106405\n",
      "step:  240000  ll:  -110.298906388\n",
      "step:  250000  ll:  -109.718087994\n",
      "step:  260000  ll:  -109.170997265\n",
      "step:  270000  ll:  -108.654469945\n",
      "step:  280000  ll:  -108.16574783\n",
      "step:  290000  ll:  -107.702412163\n"
     ]
    }
   ],
   "source": [
    "# Training with 5e-3 learning rate\n",
    "w2 = logistic_regression(train_x, train_y, num_steps = 300000, learning_rate = 5e-3, add_intercept = True)\n",
    "w2_ll = w2['ll']\n",
    "w2_w = w2['w']"
   ]
  },
  {
   "cell_type": "code",
   "execution_count": 17,
   "metadata": {},
   "outputs": [
    {
     "name": "stdout",
     "output_type": "stream",
     "text": [
      "step:  0  ll:  -24821.6880125\n",
      "step:  10000  ll:  -9658.92336771\n",
      "step:  20000  ll:  -7959.98748762\n",
      "step:  30000  ll:  -7122.68819361\n",
      "step:  40000  ll:  -6583.7430462\n",
      "step:  50000  ll:  -6193.40669741\n",
      "step:  60000  ll:  -5891.17591241\n",
      "step:  70000  ll:  -5646.77790446\n",
      "step:  80000  ll:  -5442.96793074\n",
      "step:  90000  ll:  -5269.03377446\n",
      "step:  100000  ll:  -5117.89561094\n",
      "step:  110000  ll:  -4984.64984117\n",
      "step:  120000  ll:  -4865.7723578\n",
      "step:  130000  ll:  -4758.65327388\n",
      "step:  140000  ll:  -4661.31094638\n",
      "step:  150000  ll:  -4572.20873415\n",
      "step:  160000  ll:  -4490.13342632\n",
      "step:  170000  ll:  -4414.11215194\n",
      "step:  180000  ll:  -4343.35410761\n",
      "step:  190000  ll:  -4277.20875761\n",
      "step:  200000  ll:  -4215.13524755\n",
      "step:  210000  ll:  -4156.67962513\n",
      "step:  220000  ll:  -4101.45760676\n",
      "step:  230000  ll:  -4049.1413551\n",
      "step:  240000  ll:  -3999.44920485\n",
      "step:  250000  ll:  -3952.13758777\n",
      "step:  260000  ll:  -3906.99461967\n",
      "step:  270000  ll:  -3863.83495924\n",
      "step:  280000  ll:  -3822.49565038\n",
      "step:  290000  ll:  -3782.83273324\n"
     ]
    }
   ],
   "source": [
    "# Training with 5e-7 learning rate\n",
    "\n",
    "w3 = logistic_regression(train_x, train_y, num_steps = 300000, learning_rate = 5e-7, add_intercept = True)\n",
    "w3_ll = w3['ll']\n",
    "w3_w = w3['w']\n"
   ]
  },
  {
   "cell_type": "code",
   "execution_count": 20,
   "metadata": {},
   "outputs": [
    {
     "data": {
      "image/png": "[encoded data removed]",
      "text/plain": [
       "<matplotlib.figure.Figure at 0x1a0e1b4b38>"
      ]
     },
     "metadata": {},
     "output_type": "display_data"
    }
   ],
   "source": [
    "plt.plot(w1_step, w1_ll, 'b')\n",
    "plt.plot(w1_step, w2_ll, 'r')\n",
    "plt.plot(w1_step, w3_ll, 'g')\n",
    "plt.show()"
   ]
  },
  {
   "cell_type": "code",
   "execution_count": 44,
   "metadata": {
    "collapsed": true
   },
   "outputs": [],
   "source": [
    "def predict(x, w):\n",
    "    scores = x.dot(w)\n",
    "    yp = sigmoid(scores)\n",
    "    ytr = np.around(yp)\n",
    "    return ytr\n"
   ]
  },
  {
   "cell_type": "code",
   "execution_count": 45,
   "metadata": {
    "collapsed": true
   },
   "outputs": [],
   "source": [
    "def predict2(d, w, vocabulary, label = True, add_intercept = False):\n",
    "    yp = []\n",
    "    yt = []\n",
    "    inst =[]\n",
    "\n",
    "    for i in d:\n",
    "        inst.append(i['instance_id'])\n",
    "        if label:\n",
    "            yt.append(int(i['class']))\n",
    "\n",
    "\n",
    "        if add_intercept:\n",
    "            x = np.zeros((1, len(vocabulary)+1))\n",
    "            x[0, 0] = 1\n",
    "            text = better_tokenize(i['text'])\n",
    "            for k in text:\n",
    "                if k in vocabulary:\n",
    "                    index = vocabulary[k]\n",
    "                    x[0, index] += 1\n",
    "        else:\n",
    "            x = np.zeros((1, len(vocabulary)))\n",
    "            text = better_tokenize(i['text'])\n",
    "            for k in text:\n",
    "                if k in vocabulary:\n",
    "                    index = vocabulary[k]\n",
    "                    x[0, index] += 1\n",
    "\n",
    "        scores = int(predict(x,w))\n",
    "        yp.append(scores)\n",
    "\n",
    "    return {'yp': yp, 'yt': yt, 'inst_id': inst}"
   ]
  },
  {
   "cell_type": "code",
   "execution_count": 54,
   "metadata": {},
   "outputs": [
    {
     "name": "stdout",
     "output_type": "stream",
     "text": [
      "0.586645824029\n"
     ]
    }
   ],
   "source": [
    "p1 = predict2(dev, w1_w, train_v, label = True, add_intercept = True )\n",
    "yp1 = p1['yp']\n",
    "yt1 = p1['yt']\n",
    "\n",
    "f1 = f1_check(yt1,yp1)\n",
    "print(f1)"
   ]
  },
  {
   "cell_type": "code",
   "execution_count": null,
   "metadata": {
    "collapsed": true
   },
   "outputs": [],
   "source": []
  },
  {
   "cell_type": "code",
   "execution_count": null,
   "metadata": {
    "collapsed": true
   },
   "outputs": [],
   "source": []
  }
 ],
 "metadata": {
  "kernelspec": {
   "display_name": "Python 3",
   "language": "python",
   "name": "python3"
  },
  "language_info": {
   "codemirror_mode": {
    "name": "ipython",
    "version": 3
   },
   "file_extension": ".py",
   "mimetype": "text/x-python",
   "name": "python",
   "nbconvert_exporter": "python",
   "pygments_lexer": "ipython3",
   "version": "3.6.3"
  }
 },
 "nbformat": 4,
 "nbformat_minor": 2
}
